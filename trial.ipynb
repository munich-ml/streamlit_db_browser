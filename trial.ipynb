{
 "cells": [
  {
   "cell_type": "code",
   "execution_count": 2,
   "metadata": {},
   "outputs": [],
   "source": [
    "from influxdb import InfluxDBClient\n",
    "from ruamel.yaml import YAML\n",
    "import pandas as pd\n",
    "import datetime as dt\n",
    "from streamlit_app import Trace, JsonDec, JsonEnc\n",
    "import json, os\n",
    "import pandas as pd\n",
    "import datetime as dt\n",
    "import inspect\n",
    "from dataclasses import dataclass, field, asdict\n",
    "from typing import Callable\n",
    "from ruamel.yaml import YAML"
   ]
  },
  {
   "cell_type": "code",
   "execution_count": 3,
   "metadata": {},
   "outputs": [
    {
     "data": {
      "text/plain": [
       "[{'name': '_internal'},\n",
       " {'name': 'influx_db_1'},\n",
       " {'name': 'influx_db_2'},\n",
       " {'name': 'influx_db_3'},\n",
       " {'name': 'influx_db_4'}]"
      ]
     },
     "execution_count": 3,
     "metadata": {},
     "output_type": "execute_result"
    }
   ],
   "source": [
    "with open(\"secrets.yaml\", \"r\") as file:\n",
    "    secrets = YAML().load(file)\n",
    "\n",
    "client = InfluxDBClient(host=secrets[\"influx\"][\"host\"], \n",
    "                        port=secrets[\"influx\"][\"port\"], \n",
    "                        username=secrets[\"influx\"][\"username\"], \n",
    "                        password=secrets[\"influx\"][\"password\"])\n",
    "\n",
    "client.get_list_database()"
   ]
  },
  {
   "cell_type": "code",
   "execution_count": 19,
   "metadata": {},
   "outputs": [
    {
     "name": "stdout",
     "output_type": "stream",
     "text": [
      "df.shape=(74, 1)\n"
     ]
    },
    {
     "data": {
      "text/plain": [
       "time\n",
       "2024-03-16T10:39:53.228986Z    100.0\n",
       "2024-03-16T11:25:19.423893Z    100.0\n",
       "2024-03-16T11:57:42.335223Z    100.0\n",
       "2024-03-16T13:35:36.641544Z    100.0\n",
       "2024-03-16T14:51:17.549563Z    100.0\n",
       "                               ...  \n",
       "2024-04-22T15:01:22.988830Z    100.0\n",
       "2024-04-24T05:09:08.109779Z    100.0\n",
       "2024-04-24T18:55:00.344332Z    100.0\n",
       "2024-04-25T10:11:29.028782Z    100.0\n",
       "2024-05-01T09:48:33.094654Z    100.0\n",
       "Name: value, Length: 74, dtype: float64"
      ]
     },
     "execution_count": 19,
     "metadata": {},
     "output_type": "execute_result"
    }
   ],
   "source": [
    "client.switch_database('influx_db_3')\n",
    "entity_id = \"benni_battery\"\n",
    "selected_unit = \"%\"\n",
    "qstr = f\"\"\"SELECT value, mean_value FROM \"{selected_unit}\" WHERE entity_id = '{entity_id}'\"\"\"\n",
    "df = pd.DataFrame.from_records(client.query(qstr).get_points())\n",
    "df = df.dropna(axis=1).set_index(\"time\")\n",
    "print(f\"{df.shape=}\")\n",
    "series = df[df.columns[0]]\n",
    "series"
   ]
  },
  {
   "cell_type": "code",
   "execution_count": 16,
   "metadata": {},
   "outputs": [
    {
     "data": {
      "text/plain": [
       "time\n",
       "2024-03-16T10:00:00Z    100.0\n",
       "2024-03-16T11:00:00Z    100.0\n",
       "2024-03-16T13:00:00Z    100.0\n",
       "2024-03-16T14:00:00Z    100.0\n",
       "2024-03-16T20:00:00Z    100.0\n",
       "                        ...  \n",
       "2024-04-22T15:00:00Z    100.0\n",
       "2024-04-24T05:00:00Z    100.0\n",
       "2024-04-24T18:00:00Z    100.0\n",
       "2024-04-25T10:00:00Z    100.0\n",
       "2024-05-01T09:00:00Z    100.0\n",
       "Name: mean_value, Length: 62, dtype: float64"
      ]
     },
     "execution_count": 16,
     "metadata": {},
     "output_type": "execute_result"
    }
   ],
   "source": []
  },
  {
   "cell_type": "code",
   "execution_count": null,
   "metadata": {},
   "outputs": [],
   "source": []
  }
 ],
 "metadata": {
  "kernelspec": {
   "display_name": "influx",
   "language": "python",
   "name": "python3"
  },
  "language_info": {
   "codemirror_mode": {
    "name": "ipython",
    "version": 3
   },
   "file_extension": ".py",
   "mimetype": "text/x-python",
   "name": "python",
   "nbconvert_exporter": "python",
   "pygments_lexer": "ipython3",
   "version": "3.12.2"
  }
 },
 "nbformat": 4,
 "nbformat_minor": 2
}

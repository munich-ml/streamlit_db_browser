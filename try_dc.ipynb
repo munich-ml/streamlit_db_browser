{
 "cells": [
  {
   "cell_type": "code",
   "execution_count": 2,
   "metadata": {},
   "outputs": [],
   "source": [
    "from dataclasses import dataclass, field\n",
    "@dataclass\n",
    "class Trace:\n",
    "    \"\"\"Entity time series (xs and ys) with meta data (name, unit,...)\n",
    "    \"\"\"\n",
    "    entity: str\n",
    "    unit: str\n",
    "    name: str = \"\"\n",
    "    is_cumsum: bool = False\n",
    "    is_diff: bool = False\n",
    "    xs: list = field(default_factory=list, compare=False, hash=False, repr=False)\n",
    "    ys: list = field(default_factory=list, compare=False, hash=False, repr=False)\n",
    "    \n",
    "    def get_label(self) -> str:\n",
    "        \"\"\"Returns a trace label like 'garden temperature (°C)'\n",
    "        \"\"\"\n",
    "        label = self.name if self.name else self.entity\n",
    "        \n",
    "        if self.is_cumsum:\n",
    "            label += \".cumsum\"\n",
    "        if self.is_diff:\n",
    "            label += \".diff\"\n",
    "\n",
    "        return label + f\" ({self.unit})\"\n",
    "        "
   ]
  },
  {
   "cell_type": "code",
   "execution_count": 10,
   "metadata": {},
   "outputs": [
    {
     "data": {
      "text/plain": [
       "Trace(entity='shelly_uni2_temperature', unit='°C', name='', is_diff=False, is_cumsum=False)"
      ]
     },
     "execution_count": 10,
     "metadata": {},
     "output_type": "execute_result"
    }
   ],
   "source": [
    "t1 = Trace(entity = \"shelly_uni2_temperature\", unit = \"°C\")\n",
    "t1"
   ]
  },
  {
   "cell_type": "code",
   "execution_count": 11,
   "metadata": {},
   "outputs": [
    {
     "data": {
      "text/plain": [
       "'shelly_uni2_temperature'"
      ]
     },
     "execution_count": 11,
     "metadata": {},
     "output_type": "execute_result"
    }
   ],
   "source": [
    "t1.get_name()"
   ]
  },
  {
   "cell_type": "code",
   "execution_count": 13,
   "metadata": {},
   "outputs": [],
   "source": [
    "import pandas as pd\n",
    "import datetime as dt "
   ]
  },
  {
   "cell_type": "code",
   "execution_count": null,
   "metadata": {},
   "outputs": [],
   "source": []
  }
 ],
 "metadata": {
  "kernelspec": {
   "display_name": "influx",
   "language": "python",
   "name": "python3"
  },
  "language_info": {
   "codemirror_mode": {
    "name": "ipython",
    "version": 3
   },
   "file_extension": ".py",
   "mimetype": "text/x-python",
   "name": "python",
   "nbconvert_exporter": "python",
   "pygments_lexer": "ipython3",
   "version": "3.12.2"
  }
 },
 "nbformat": 4,
 "nbformat_minor": 2
}

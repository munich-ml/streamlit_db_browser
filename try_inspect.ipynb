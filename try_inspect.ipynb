{
 "cells": [
  {
   "cell_type": "code",
   "execution_count": 5,
   "metadata": {},
   "outputs": [
    {
     "name": "stdout",
     "output_type": "stream",
     "text": [
      "Argument: a, Type Hint: <class 'int'>\n",
      "Argument: b, Type Hint: <class 'str'>\n",
      "Argument: a, Type Hint: <class 'int'>\n",
      "Argument: b, Type Hint: <class 'str'>\n",
      "Argument: return, Type Hint: <class 'bool'>\n"
     ]
    }
   ],
   "source": [
    "import inspect\n",
    "from typing import get_type_hints\n",
    "\n",
    "def example_function(a: int, b: str) -> bool:\n",
    "    return str(a) == b\n",
    "\n",
    "# Get the function's signature\n",
    "signature = inspect.signature(example_function)\n",
    "\n",
    "# Print each parameter and its type hint\n",
    "for name, parameter in signature.parameters.items():\n",
    "    type_hint = parameter.annotation\n",
    "    print(f\"Argument: {name}, Type Hint: {type_hint}\")\n",
    "\n",
    "# Alternatively, use get_type_hints for a dictionary of type hints\n",
    "type_hints = get_type_hints(example_function)\n",
    "for name, type_hint in type_hints.items():\n",
    "    print(f\"Argument: {name}, Type Hint: {type_hint}\")\n"
   ]
  },
  {
   "cell_type": "code",
   "execution_count": 6,
   "metadata": {},
   "outputs": [
    {
     "data": {
      "text/plain": [
       "<Signature (a: int, b: str) -> bool>"
      ]
     },
     "execution_count": 6,
     "metadata": {},
     "output_type": "execute_result"
    }
   ],
   "source": [
    "signature"
   ]
  },
  {
   "cell_type": "code",
   "execution_count": 10,
   "metadata": {},
   "outputs": [
    {
     "data": {
      "text/plain": [
       "bool"
      ]
     },
     "execution_count": 10,
     "metadata": {},
     "output_type": "execute_result"
    }
   ],
   "source": [
    "signature.return_annotation"
   ]
  },
  {
   "cell_type": "code",
   "execution_count": null,
   "metadata": {},
   "outputs": [],
   "source": []
  }
 ],
 "metadata": {
  "kernelspec": {
   "display_name": "influx",
   "language": "python",
   "name": "python3"
  },
  "language_info": {
   "codemirror_mode": {
    "name": "ipython",
    "version": 3
   },
   "file_extension": ".py",
   "mimetype": "text/x-python",
   "name": "python",
   "nbconvert_exporter": "python",
   "pygments_lexer": "ipython3",
   "version": "3.12.2"
  }
 },
 "nbformat": 4,
 "nbformat_minor": 2
}
